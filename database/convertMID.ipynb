{
 "cells": [
  {
   "cell_type": "code",
   "execution_count": 2,
   "metadata": {},
   "outputs": [],
   "source": [
    "import json\n",
    "data = None\n",
    "with open('midOld.json', 'r') as infile:\n",
    "    data: str = json.load(infile)\n",
    "    "
   ]
  },
  {
   "cell_type": "code",
   "execution_count": 3,
   "metadata": {},
   "outputs": [
    {
     "name": "stdout",
     "output_type": "stream",
     "text": [
      "[{'value': '201', 'viewValue': 'Albania'}, {'value': '202', 'viewValue': 'Andorra'}, {'value': '203', 'viewValue': 'Austria'}, {'value': '204', 'viewValue': 'Azores'}, {'value': '205', 'viewValue': 'Belgium'}, {'value': '206', 'viewValue': 'Belarus'}, {'value': '207', 'viewValue': 'Bulgaria'}, {'value': '208', 'viewValue': 'Vatican City State'}, {'value': '209', 'viewValue': 'Cyprus'}, {'value': '210', 'viewValue': 'Cyprus'}, {'value': '211', 'viewValue': 'Germany'}, {'value': '212', 'viewValue': 'Cyprus'}, {'value': '213', 'viewValue': 'Georgia'}, {'value': '214', 'viewValue': 'Moldova'}, {'value': '215', 'viewValue': 'Malta'}, {'value': '216', 'viewValue': 'Armenia'}, {'value': '218', 'viewValue': 'Germany'}, {'value': '219', 'viewValue': 'Denmark'}, {'value': '220', 'viewValue': 'Denmark'}, {'value': '224', 'viewValue': 'Spain'}, {'value': '225', 'viewValue': 'Spain'}, {'value': '226', 'viewValue': 'France'}, {'value': '227', 'viewValue': 'France'}, {'value': '228', 'viewValue': 'France'}, {'value': '229', 'viewValue': 'Malta'}, {'value': '230', 'viewValue': 'Finland'}, {'value': '231', 'viewValue': 'Faroe Islands'}, {'value': '232', 'viewValue': 'United Kingdom'}, {'value': '233', 'viewValue': 'United Kingdom'}, {'value': '234', 'viewValue': 'United Kingdom'}, {'value': '235', 'viewValue': 'United Kingdom'}, {'value': '236', 'viewValue': 'Gibraltar'}, {'value': '237', 'viewValue': 'Greece'}, {'value': '238', 'viewValue': 'Croatia'}, {'value': '239', 'viewValue': 'Greece'}, {'value': '240', 'viewValue': 'Greece'}, {'value': '241', 'viewValue': 'Greece'}, {'value': '242', 'viewValue': 'Morocco'}, {'value': '243', 'viewValue': 'Hungary'}, {'value': '244', 'viewValue': 'Netherlands'}, {'value': '245', 'viewValue': 'Netherlands'}, {'value': '246', 'viewValue': 'Netherlands'}, {'value': '247', 'viewValue': 'Italy'}, {'value': '248', 'viewValue': 'Malta'}, {'value': '249', 'viewValue': 'Malta'}, {'value': '250', 'viewValue': 'Ireland'}, {'value': '251', 'viewValue': 'Iceland'}, {'value': '252', 'viewValue': 'Liechtenstein'}, {'value': '253', 'viewValue': 'Luxembourg'}, {'value': '254', 'viewValue': 'Monaco'}, {'value': '255', 'viewValue': 'Madeira'}, {'value': '256', 'viewValue': 'Malta'}, {'value': '257', 'viewValue': 'Norway'}, {'value': '258', 'viewValue': 'Norway'}, {'value': '259', 'viewValue': 'Norway'}, {'value': '261', 'viewValue': 'Poland'}, {'value': '262', 'viewValue': 'Montenegro'}, {'value': '263', 'viewValue': 'Portugal'}, {'value': '264', 'viewValue': 'Romania'}, {'value': '265', 'viewValue': 'Sweden'}, {'value': '266', 'viewValue': 'Sweden'}, {'value': '267', 'viewValue': 'Slovak Republic'}, {'value': '268', 'viewValue': 'San Marino'}, {'value': '269', 'viewValue': 'Switzerland'}, {'value': '270', 'viewValue': 'Czech Republic'}, {'value': '271', 'viewValue': 'Turkey'}, {'value': '272', 'viewValue': 'Ukraine'}, {'value': '273', 'viewValue': 'Russia'}, {'value': '274', 'viewValue': 'Macedonia'}, {'value': '275', 'viewValue': 'Latvia'}, {'value': '276', 'viewValue': 'Estonia'}, {'value': '277', 'viewValue': 'Lithuania'}, {'value': '278', 'viewValue': 'Slovenia'}, {'value': '279', 'viewValue': 'Serbia'}, {'value': '301', 'viewValue': 'Anguilla'}, {'value': '303', 'viewValue': 'Alaska'}, {'value': '304', 'viewValue': 'Antigua and Barbuda'}, {'value': '305', 'viewValue': 'Antigua and Barbuda'}, {'value': '306', 'viewValue': 'Antilles'}, {'value': '307', 'viewValue': 'Aruba'}, {'value': '308', 'viewValue': 'Bahamas'}, {'value': '309', 'viewValue': 'Bahamas'}, {'value': '310', 'viewValue': 'Bermuda'}, {'value': '311', 'viewValue': 'Bahamas'}, {'value': '312', 'viewValue': 'Belize'}, {'value': '314', 'viewValue': 'Barbados'}, {'value': '316', 'viewValue': 'Canada'}, {'value': '319', 'viewValue': 'Cayman Islands'}, {'value': '321', 'viewValue': 'Costa Rica'}, {'value': '323', 'viewValue': 'Cuba'}, {'value': '325', 'viewValue': 'Dominica'}, {'value': '327', 'viewValue': 'Dominican Republic'}, {'value': '329', 'viewValue': 'Guadeloupe'}, {'value': '330', 'viewValue': 'Grenada'}, {'value': '331', 'viewValue': 'Greenland'}, {'value': '332', 'viewValue': 'Guatemala'}, {'value': '335', 'viewValue': 'Honduras'}, {'value': '336', 'viewValue': 'Haiti'}, {'value': '338', 'viewValue': 'United States of America'}, {'value': '339', 'viewValue': 'Jamaica'}, {'value': '341', 'viewValue': 'Saint Kitts and Nevis'}, {'value': '343', 'viewValue': 'Saint Lucia'}, {'value': '345', 'viewValue': 'Mexico'}, {'value': '347', 'viewValue': 'Martinique'}, {'value': '348', 'viewValue': 'Montserrat'}, {'value': '350', 'viewValue': 'Nicaragua'}, {'value': '351', 'viewValue': 'Panama'}, {'value': '352', 'viewValue': 'Panama'}, {'value': '353', 'viewValue': 'Panama'}, {'value': '354', 'viewValue': 'Panama'}, {'value': '355', 'viewValue': 'Panama'}, {'value': '356', 'viewValue': 'Panama'}, {'value': '357', 'viewValue': 'Panama'}, {'value': '358', 'viewValue': 'Puerto Rico'}, {'value': '359', 'viewValue': 'El Salvador'}, {'value': '361', 'viewValue': 'Saint Pierre and Miquelon'}, {'value': '362', 'viewValue': 'Trinidad and Tobago'}, {'value': '364', 'viewValue': 'Turks and Caicos Islands'}, {'value': '366', 'viewValue': 'United States of America'}, {'value': '367', 'viewValue': 'United States of America'}, {'value': '368', 'viewValue': 'United States of America'}, {'value': '369', 'viewValue': 'United States of America'}, {'value': '370', 'viewValue': 'Panama'}, {'value': '371', 'viewValue': 'Panama'}, {'value': '372', 'viewValue': 'Panama'}, {'value': '373', 'viewValue': 'Panama'}, {'value': '374', 'viewValue': 'Panama'}, {'value': '375', 'viewValue': 'Saint Vincent and the Grenadines'}, {'value': '376', 'viewValue': 'Saint Vincent and the Grenadines'}, {'value': '377', 'viewValue': 'Saint Vincent and the Grenadines'}, {'value': '378', 'viewValue': 'British Virgin Islands'}, {'value': '379', 'viewValue': 'United States Virgin Islands'}, {'value': '401', 'viewValue': 'Afghanistan'}, {'value': '403', 'viewValue': 'Saudi Arabia'}, {'value': '405', 'viewValue': 'Bangladesh'}, {'value': '408', 'viewValue': 'Bahrain'}, {'value': '410', 'viewValue': 'Bhutan'}, {'value': '412', 'viewValue': 'China'}, {'value': '413', 'viewValue': 'China'}, {'value': '414', 'viewValue': 'China'}, {'value': '416', 'viewValue': 'Taiwan'}, {'value': '417', 'viewValue': 'Sri Lanka'}, {'value': '419', 'viewValue': 'India'}, {'value': '422', 'viewValue': 'Iran'}, {'value': '423', 'viewValue': 'Azerbaijan'}, {'value': '425', 'viewValue': 'Iraq'}, {'value': '428', 'viewValue': 'Israel'}, {'value': '431', 'viewValue': 'Japan'}, {'value': '432', 'viewValue': 'Japan'}, {'value': '434', 'viewValue': 'Turkmenistan'}, {'value': '436', 'viewValue': 'Kazakhstan'}, {'value': '437', 'viewValue': 'Uzbekistan'}, {'value': '438', 'viewValue': 'Jordan'}, {'value': '440', 'viewValue': 'Korea'}, {'value': '441', 'viewValue': 'Korea'}, {'value': '443', 'viewValue': 'State of Palestine'}, {'value': '445', 'viewValue': \"Democratic People's Republic of Korea\"}, {'value': '447', 'viewValue': 'Kuwait'}, {'value': '450', 'viewValue': 'Lebanon'}, {'value': '451', 'viewValue': 'Kyrgyz Republic'}, {'value': '453', 'viewValue': 'Macao'}, {'value': '455', 'viewValue': 'Maldives'}, {'value': '457', 'viewValue': 'Mongolia'}, {'value': '459', 'viewValue': 'Nepal'}, {'value': '461', 'viewValue': 'Oman'}, {'value': '463', 'viewValue': 'Pakistan'}, {'value': '466', 'viewValue': 'Qatar (State of)'}, {'value': '468', 'viewValue': 'Syrian Arab Republic'}, {'value': '470', 'viewValue': 'United Arab Emirates'}, {'value': '472', 'viewValue': 'Tajikistan'}, {'value': '473', 'viewValue': 'Yemen'}, {'value': '475', 'viewValue': 'Yemen'}, {'value': '477', 'viewValue': 'Hong Kong'}, {'value': '478', 'viewValue': 'Bosnia and Herzegovina'}, {'value': '501', 'viewValue': 'Adelie Land'}, {'value': '503', 'viewValue': 'Australia'}, {'value': '506', 'viewValue': 'Myanmar'}, {'value': '508', 'viewValue': 'Brunei Darussalam'}, {'value': '510', 'viewValue': 'Micronesia'}, {'value': '511', 'viewValue': 'Palau'}, {'value': '512', 'viewValue': 'New Zealand'}, {'value': '514', 'viewValue': 'Cambodia'}, {'value': '515', 'viewValue': 'Cambodia'}, {'value': '516', 'viewValue': 'Christmas Island'}, {'value': '518', 'viewValue': 'Cook Islands'}, {'value': '520', 'viewValue': 'Fiji'}, {'value': '523', 'viewValue': 'Cocos (Keeling) Islands'}, {'value': '525', 'viewValue': 'Indonesia'}, {'value': '529', 'viewValue': 'Kiribati'}, {'value': '531', 'viewValue': \"Lao People's Democratic Republic\"}, {'value': '533', 'viewValue': 'Malaysia'}, {'value': '536', 'viewValue': 'Northern Mariana Islands'}, {'value': '538', 'viewValue': 'Marshall Islands'}, {'value': '540', 'viewValue': 'New Caledonia'}, {'value': '542', 'viewValue': 'Niue'}, {'value': '544', 'viewValue': 'Nauru'}, {'value': '546', 'viewValue': 'French Polynesia'}, {'value': '548', 'viewValue': 'Philippines'}, {'value': '553', 'viewValue': 'Papua New Guinea'}, {'value': '555', 'viewValue': 'Pitcairn Island'}, {'value': '557', 'viewValue': 'Solomon Islands'}, {'value': '559', 'viewValue': 'American Samoa'}, {'value': '561', 'viewValue': 'Samoa'}, {'value': '563', 'viewValue': 'Singapore'}, {'value': '564', 'viewValue': 'Singapore'}, {'value': '565', 'viewValue': 'Singapore'}, {'value': '566', 'viewValue': 'Singapore'}, {'value': '567', 'viewValue': 'Thailand'}, {'value': '570', 'viewValue': 'Tonga'}, {'value': '572', 'viewValue': 'Tuvalu'}, {'value': '574', 'viewValue': 'Viet Nam'}, {'value': '576', 'viewValue': 'Vanuatu'}, {'value': '577', 'viewValue': 'Vanuatu'}, {'value': '578', 'viewValue': 'Wallis and Futuna Islands'}, {'value': '601', 'viewValue': 'South Africa'}, {'value': '603', 'viewValue': 'Angola'}, {'value': '605', 'viewValue': 'Algeria'}, {'value': '607', 'viewValue': 'Saint Paul and Amsterdam Islands'}, {'value': '608', 'viewValue': 'Ascension Island'}, {'value': '609', 'viewValue': 'Burundi'}, {'value': '610', 'viewValue': 'Benin'}, {'value': '611', 'viewValue': 'Botswana'}, {'value': '612', 'viewValue': 'Central African Republic'}, {'value': '613', 'viewValue': 'Cameroon'}, {'value': '615', 'viewValue': 'Congo'}, {'value': '616', 'viewValue': 'Comoros'}, {'value': '617', 'viewValue': 'Cabo Verde'}, {'value': '618', 'viewValue': 'Crozet Archipelago'}, {'value': '619', 'viewValue': 'Ivory Coast'}, {'value': '620', 'viewValue': 'Comoros'}, {'value': '621', 'viewValue': 'Djibouti'}, {'value': '622', 'viewValue': 'Egypt'}, {'value': '624', 'viewValue': 'Ethiopia'}, {'value': '625', 'viewValue': 'Eritrea'}, {'value': '626', 'viewValue': 'Gabonese Republic'}, {'value': '627', 'viewValue': 'Ghana'}, {'value': '629', 'viewValue': 'Gambia'}, {'value': '630', 'viewValue': 'Guinea-Bissau'}, {'value': '631', 'viewValue': 'Equatorial Guinea'}, {'value': '632', 'viewValue': 'Guinea'}, {'value': '633', 'viewValue': 'Burkina Faso'}, {'value': '634', 'viewValue': 'Kenya'}, {'value': '635', 'viewValue': 'Kerguelen Islands'}, {'value': '636', 'viewValue': 'Liberia'}, {'value': '637', 'viewValue': 'Liberia'}, {'value': '638', 'viewValue': 'South Sudan'}, {'value': '642', 'viewValue': 'Libya'}, {'value': '644', 'viewValue': 'Lesotho'}, {'value': '645', 'viewValue': 'Mauritius'}, {'value': '647', 'viewValue': 'Madagascar'}, {'value': '649', 'viewValue': 'Mali'}, {'value': '650', 'viewValue': 'Mozambique'}, {'value': '654', 'viewValue': 'Mauritania'}, {'value': '655', 'viewValue': 'Malawi'}, {'value': '656', 'viewValue': 'Niger'}, {'value': '657', 'viewValue': 'Nigeria'}, {'value': '659', 'viewValue': 'Namibia'}, {'value': '660', 'viewValue': 'Reunion'}, {'value': '661', 'viewValue': 'Rwanda'}, {'value': '662', 'viewValue': 'Sudan'}, {'value': '663', 'viewValue': 'Senegal'}, {'value': '664', 'viewValue': 'Seychelles'}, {'value': '665', 'viewValue': 'Saint Helena'}, {'value': '666', 'viewValue': 'Somali Democratic Republic'}, {'value': '667', 'viewValue': 'Sierra Leone'}, {'value': '668', 'viewValue': 'Sao Tome and Principe'}, {'value': '669', 'viewValue': 'Swaziland'}, {'value': '670', 'viewValue': 'Chad'}, {'value': '671', 'viewValue': 'Togolese Republic'}, {'value': '672', 'viewValue': 'Tunisian Republic'}, {'value': '674', 'viewValue': 'Tanzania'}, {'value': '675', 'viewValue': 'Uganda'}, {'value': '676', 'viewValue': 'Democratic Republic of the Congo'}, {'value': '677', 'viewValue': 'Tanzania'}, {'value': '678', 'viewValue': 'Zambia'}, {'value': '679', 'viewValue': 'Zimbabwe'}, {'value': '701', 'viewValue': 'Argentine Republic'}, {'value': '710', 'viewValue': 'Brazil'}, {'value': '720', 'viewValue': 'Bolivia'}, {'value': '725', 'viewValue': 'Chile'}, {'value': '730', 'viewValue': 'Colombia'}, {'value': '735', 'viewValue': 'Ecuador'}, {'value': '740', 'viewValue': 'Falkland Islands'}, {'value': '745', 'viewValue': 'Guiana'}, {'value': '750', 'viewValue': 'Guyana'}, {'value': '755', 'viewValue': 'Paraguay'}, {'value': '760', 'viewValue': 'Peru'}, {'value': '765', 'viewValue': 'Suriname'}, {'value': '770', 'viewValue': 'Uruguay'}, {'value': '775', 'viewValue': 'Venezuela'}]\n"
     ]
    }
   ],
   "source": [
    "newJson = []\n",
    "for k, v in data.items():\n",
    "    newJson.append({\"value\": k, \"viewValue\": v[3]})\n",
    "    \n",
    "print(newJson)"
   ]
  },
  {
   "cell_type": "code",
   "execution_count": 9,
   "metadata": {},
   "outputs": [],
   "source": [
    "with open('midNew.json', 'w') as outfile:\n",
    "    json.dump(newJson, outfile)\n",
    "    "
   ]
  },
  {
   "cell_type": "code",
   "execution_count": 22,
   "metadata": {},
   "outputs": [
    {
     "name": "stdout",
     "output_type": "stream",
     "text": [
      "[{'viewValue': 'Adelie Land'}, {'viewValue': 'Afghanistan'}, {'viewValue': 'Alaska'}, {'viewValue': 'Albania'}, {'viewValue': 'Algeria'}, {'viewValue': 'American Samoa'}, {'viewValue': 'Andorra'}, {'viewValue': 'Angola'}, {'viewValue': 'Anguilla'}, {'viewValue': 'Antigua and Barbuda'}, {'viewValue': 'Antilles'}, {'viewValue': 'Argentine Republic'}, {'viewValue': 'Armenia'}, {'viewValue': 'Aruba'}, {'viewValue': 'Ascension Island'}, {'viewValue': 'Australia'}, {'viewValue': 'Austria'}, {'viewValue': 'Azerbaijan'}, {'viewValue': 'Azores'}, {'viewValue': 'Bahamas'}, {'viewValue': 'Bahrain'}, {'viewValue': 'Bangladesh'}, {'viewValue': 'Barbados'}, {'viewValue': 'Belarus'}, {'viewValue': 'Belgium'}, {'viewValue': 'Belize'}, {'viewValue': 'Benin'}, {'viewValue': 'Bermuda'}, {'viewValue': 'Bhutan'}, {'viewValue': 'Bolivia'}, {'viewValue': 'Bosnia and Herzegovina'}, {'viewValue': 'Botswana'}, {'viewValue': 'Brazil'}, {'viewValue': 'British Virgin Islands'}, {'viewValue': 'Brunei Darussalam'}, {'viewValue': 'Bulgaria'}, {'viewValue': 'Burkina Faso'}, {'viewValue': 'Burundi'}, {'viewValue': 'Cabo Verde'}, {'viewValue': 'Cambodia'}, {'viewValue': 'Cameroon'}, {'viewValue': 'Canada'}, {'viewValue': 'Cayman Islands'}, {'viewValue': 'Central African Republic'}, {'viewValue': 'Chad'}, {'viewValue': 'Chile'}, {'viewValue': 'China'}, {'viewValue': 'Christmas Island'}, {'viewValue': 'Cocos (Keeling) Islands'}, {'viewValue': 'Colombia'}, {'viewValue': 'Comoros'}, {'viewValue': 'Congo'}, {'viewValue': 'Cook Islands'}, {'viewValue': 'Costa Rica'}, {'viewValue': 'Croatia'}, {'viewValue': 'Crozet Archipelago'}, {'viewValue': 'Cuba'}, {'viewValue': 'Cyprus'}, {'viewValue': 'Czech Republic'}, {'viewValue': \"Democratic People's Republic of Korea\"}, {'viewValue': 'Democratic Republic of the Congo'}, {'viewValue': 'Denmark'}, {'viewValue': 'Djibouti'}, {'viewValue': 'Dominica'}, {'viewValue': 'Dominican Republic'}, {'viewValue': 'Ecuador'}, {'viewValue': 'Egypt'}, {'viewValue': 'El Salvador'}, {'viewValue': 'Equatorial Guinea'}, {'viewValue': 'Eritrea'}, {'viewValue': 'Estonia'}, {'viewValue': 'Ethiopia'}, {'viewValue': 'Falkland Islands'}, {'viewValue': 'Faroe Islands'}, {'viewValue': 'Fiji'}, {'viewValue': 'Finland'}, {'viewValue': 'France'}, {'viewValue': 'French Polynesia'}, {'viewValue': 'Gabonese Republic'}, {'viewValue': 'Gambia'}, {'viewValue': 'Georgia'}, {'viewValue': 'Germany'}, {'viewValue': 'Ghana'}, {'viewValue': 'Gibraltar'}, {'viewValue': 'Greece'}, {'viewValue': 'Greenland'}, {'viewValue': 'Grenada'}, {'viewValue': 'Guadeloupe'}, {'viewValue': 'Guatemala'}, {'viewValue': 'Guiana'}, {'viewValue': 'Guinea'}, {'viewValue': 'Guinea-Bissau'}, {'viewValue': 'Guyana'}, {'viewValue': 'Haiti'}, {'viewValue': 'Honduras'}, {'viewValue': 'Hong Kong'}, {'viewValue': 'Hungary'}, {'viewValue': 'Iceland'}, {'viewValue': 'India'}, {'viewValue': 'Indonesia'}, {'viewValue': 'Iran'}, {'viewValue': 'Iraq'}, {'viewValue': 'Ireland'}, {'viewValue': 'Israel'}, {'viewValue': 'Italy'}, {'viewValue': 'Ivory Coast'}, {'viewValue': 'Jamaica'}, {'viewValue': 'Japan'}, {'viewValue': 'Jordan'}, {'viewValue': 'Kazakhstan'}, {'viewValue': 'Kenya'}, {'viewValue': 'Kerguelen Islands'}, {'viewValue': 'Kiribati'}, {'viewValue': 'Korea'}, {'viewValue': 'Kuwait'}, {'viewValue': 'Kyrgyz Republic'}, {'viewValue': \"Lao People's Democratic Republic\"}, {'viewValue': 'Latvia'}, {'viewValue': 'Lebanon'}, {'viewValue': 'Lesotho'}, {'viewValue': 'Liberia'}, {'viewValue': 'Libya'}, {'viewValue': 'Liechtenstein'}, {'viewValue': 'Lithuania'}, {'viewValue': 'Luxembourg'}, {'viewValue': 'Macao'}, {'viewValue': 'Macedonia'}, {'viewValue': 'Madagascar'}, {'viewValue': 'Madeira'}, {'viewValue': 'Malawi'}, {'viewValue': 'Malaysia'}, {'viewValue': 'Maldives'}, {'viewValue': 'Mali'}, {'viewValue': 'Malta'}, {'viewValue': 'Marshall Islands'}, {'viewValue': 'Martinique'}, {'viewValue': 'Mauritania'}, {'viewValue': 'Mauritius'}, {'viewValue': 'Mexico'}, {'viewValue': 'Micronesia'}, {'viewValue': 'Moldova'}, {'viewValue': 'Monaco'}, {'viewValue': 'Mongolia'}, {'viewValue': 'Montenegro'}, {'viewValue': 'Montserrat'}, {'viewValue': 'Morocco'}, {'viewValue': 'Mozambique'}, {'viewValue': 'Myanmar'}, {'viewValue': 'Namibia'}, {'viewValue': 'Nauru'}, {'viewValue': 'Nepal'}, {'viewValue': 'Netherlands'}, {'viewValue': 'New Caledonia'}, {'viewValue': 'New Zealand'}, {'viewValue': 'Nicaragua'}, {'viewValue': 'Niger'}, {'viewValue': 'Nigeria'}, {'viewValue': 'Niue'}, {'viewValue': 'Northern Mariana Islands'}, {'viewValue': 'Norway'}, {'viewValue': 'Oman'}, {'viewValue': 'Pakistan'}, {'viewValue': 'Palau'}, {'viewValue': 'Panama'}, {'viewValue': 'Papua New Guinea'}, {'viewValue': 'Paraguay'}, {'viewValue': 'Peru'}, {'viewValue': 'Philippines'}, {'viewValue': 'Pitcairn Island'}, {'viewValue': 'Poland'}, {'viewValue': 'Portugal'}, {'viewValue': 'Puerto Rico'}, {'viewValue': 'Qatar (State of)'}, {'viewValue': 'Reunion'}, {'viewValue': 'Romania'}, {'viewValue': 'Russia'}, {'viewValue': 'Rwanda'}, {'viewValue': 'Saint Helena'}, {'viewValue': 'Saint Kitts and Nevis'}, {'viewValue': 'Saint Lucia'}, {'viewValue': 'Saint Paul and Amsterdam Islands'}, {'viewValue': 'Saint Pierre and Miquelon'}, {'viewValue': 'Saint Vincent and the Grenadines'}, {'viewValue': 'Samoa'}, {'viewValue': 'San Marino'}, {'viewValue': 'Sao Tome and Principe'}, {'viewValue': 'Saudi Arabia'}, {'viewValue': 'Senegal'}, {'viewValue': 'Serbia'}, {'viewValue': 'Seychelles'}, {'viewValue': 'Sierra Leone'}, {'viewValue': 'Singapore'}, {'viewValue': 'Slovak Republic'}, {'viewValue': 'Slovenia'}, {'viewValue': 'Solomon Islands'}, {'viewValue': 'Somali Democratic Republic'}, {'viewValue': 'South Africa'}, {'viewValue': 'South Sudan'}, {'viewValue': 'Spain'}, {'viewValue': 'Sri Lanka'}, {'viewValue': 'State of Palestine'}, {'viewValue': 'Sudan'}, {'viewValue': 'Suriname'}, {'viewValue': 'Swaziland'}, {'viewValue': 'Sweden'}, {'viewValue': 'Switzerland'}, {'viewValue': 'Syrian Arab Republic'}, {'viewValue': 'Taiwan'}, {'viewValue': 'Tajikistan'}, {'viewValue': 'Tanzania'}, {'viewValue': 'Thailand'}, {'viewValue': 'Togolese Republic'}, {'viewValue': 'Tonga'}, {'viewValue': 'Trinidad and Tobago'}, {'viewValue': 'Tunisian Republic'}, {'viewValue': 'Turkey'}, {'viewValue': 'Turkmenistan'}, {'viewValue': 'Turks and Caicos Islands'}, {'viewValue': 'Tuvalu'}, {'viewValue': 'Uganda'}, {'viewValue': 'Ukraine'}, {'viewValue': 'United Arab Emirates'}, {'viewValue': 'United Kingdom'}, {'viewValue': 'United States Virgin Islands'}, {'viewValue': 'United States of America'}, {'viewValue': 'Uruguay'}, {'viewValue': 'Uzbekistan'}, {'viewValue': 'Vanuatu'}, {'viewValue': 'Vatican City State'}, {'viewValue': 'Venezuela'}, {'viewValue': 'Viet Nam'}, {'viewValue': 'Wallis and Futuna Islands'}, {'viewValue': 'Yemen'}, {'viewValue': 'Zambia'}, {'viewValue': 'Zimbabwe'}]\n"
     ]
    }
   ],
   "source": [
    "countryList = set()\n",
    "\n",
    "for item in newJson:\n",
    "    countryList.add(item['viewValue'])\n",
    "    \n",
    "\n",
    "countryList = list(countryList)\n",
    "countryList.sort()\n",
    "\n",
    "cl = []\n",
    "for c in countryList:\n",
    "    cl.append({'viewValue': c})\n",
    "\n",
    "print(cl)\n",
    "\n",
    "    "
   ]
  },
  {
   "cell_type": "code",
   "execution_count": 23,
   "metadata": {},
   "outputs": [],
   "source": [
    "with open('countries.json', 'w') as outfile:\n",
    "    json.dump(cl, outfile)"
   ]
  }
 ],
 "metadata": {
  "interpreter": {
   "hash": "0315d12fe550d4ff8ffc20a81b6ea866629de7ef45c62c4615d75b85bb36260b"
  },
  "kernelspec": {
   "display_name": "Python 3.9.0 64-bit",
   "language": "python",
   "name": "python3"
  },
  "language_info": {
   "codemirror_mode": {
    "name": "ipython",
    "version": 3
   },
   "file_extension": ".py",
   "mimetype": "text/x-python",
   "name": "python",
   "nbconvert_exporter": "python",
   "pygments_lexer": "ipython3",
   "version": "3.9.0"
  },
  "orig_nbformat": 4
 },
 "nbformat": 4,
 "nbformat_minor": 2
}
